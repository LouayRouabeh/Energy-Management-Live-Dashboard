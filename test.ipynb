{
 "cells": [
  {
   "cell_type": "code",
   "execution_count": 16,
   "metadata": {},
   "outputs": [],
   "source": [
    "import dash\n",
    "import dash_core_components as dcc\n",
    "import dash_html_components as html\n",
    "import plotly.graph_objs as go\n",
    "import numpy as np"
   ]
  },
  {
   "cell_type": "code",
   "execution_count": 11,
   "metadata": {},
   "outputs": [],
   "source": [
    "app = dash.Dash()\n",
    "colors = {'backgound':'#111111','text':'#7FDBFF'}\n"
   ]
  },
  {
   "cell_type": "markdown",
   "metadata": {},
   "source": [
    "app.layout = html.Div(children=[\n",
    "    html.H1('hello Dash!', style={'textAlign': 'center',\n",
    "                                 'color': colors['text']}),\n",
    "    \n",
    "    dcc.Graph(id='example', figure={'data':[\n",
    "        {'x':[1,2,3],'y':[4,1,2],'type':'bar','name':'SF'},\n",
    "        {'x':[1,2,3],'y':[2,4,5],'type':'bar','name':'NYC'}\n",
    "    ],\n",
    "                                   'layout':{\n",
    "                                       'plot_bgcolor': colors['backgound'],\n",
    "                                       'paper_bgcolor': colors['backgound'],\n",
    "                                       'font': {'color': colors['text']},\n",
    "                                       'title': 'BAR PLOTS!'\n",
    "                                   }})\n",
    "], style={'backgoundColor': colors['backgound']} \n",
    "                     )\n",
    "    "
   ]
  },
  {
   "cell_type": "code",
   "execution_count": 18,
   "metadata": {},
   "outputs": [],
   "source": [
    "np.random.seed(42)\n",
    "random_x = np.random.randint(1,101,100)\n",
    "random_y = np.random.randint(1,101,100)"
   ]
  },
  {
   "cell_type": "code",
   "execution_count": 25,
   "metadata": {},
   "outputs": [],
   "source": [
    "app.layout = html.Div([dcc.Graph(id='scatterplot',\n",
    "                                figure = {'data':[\n",
    "                                    go.Scatter(x = random_x,\n",
    "                                              y = random_y,\n",
    "                                              mode = 'markers',\n",
    "                                              marker = {\n",
    "                                                  'size':12,\n",
    "                                                  'color':'rgb(200,204,53)',\n",
    "                                                  'symbol': 'pentagon',\n",
    "                                                  'line': {'width':2}\n",
    "                                              }\n",
    "                                              )],\n",
    "                                          'layout': go.Layout(title='My Scatterplot',\n",
    "                                                             xaxis= {'title': 'some X title'}\n",
    "                                                             )}\n",
    "                                ),\n",
    "                      dcc.Graph(id='scatterplot2',\n",
    "                                figure = {'data':[\n",
    "                                    go.Scatter(x = random_x,\n",
    "                                              y = random_y,\n",
    "                                              mode = 'markers',\n",
    "                                              marker = {\n",
    "                                                  'size':12,\n",
    "                                                  'color':'rgb(51,204,153)',\n",
    "                                                  'symbol': 'pentagon',\n",
    "                                                  'line': {'width':2}\n",
    "                                              }\n",
    "                                              )],\n",
    "                                          'layout': go.Layout(title='My 2 Scatterplot',\n",
    "                                                             xaxis= {'title': 'some X title'}\n",
    "                                                             )}\n",
    "                                )\n",
    "                      ])"
   ]
  },
  {
   "cell_type": "code",
   "execution_count": 26,
   "metadata": {},
   "outputs": [
    {
     "name": "stdout",
     "output_type": "stream",
     "text": [
      "Dash is running on http://127.0.0.1:8050/\n",
      "\n",
      "Dash is running on http://127.0.0.1:8050/\n",
      "\n",
      " * Serving Flask app \"__main__\" (lazy loading)\n",
      " * Environment: production\n",
      "   WARNING: This is a development server. Do not use it in a production deployment.\n",
      "   Use a production WSGI server instead.\n",
      " * Debug mode: off\n"
     ]
    },
    {
     "name": "stderr",
     "output_type": "stream",
     "text": [
      " * Running on http://127.0.0.1:8050/ (Press CTRL+C to quit)\n",
      "127.0.0.1 - - [25/Mar/2021 22:03:29] \"\u001b[37mGET / HTTP/1.1\u001b[0m\" 200 -\n",
      "127.0.0.1 - - [25/Mar/2021 22:03:30] \"\u001b[37mGET /_dash-layout HTTP/1.1\u001b[0m\" 200 -\n",
      "127.0.0.1 - - [25/Mar/2021 22:03:30] \"\u001b[37mGET /_dash-dependencies HTTP/1.1\u001b[0m\" 200 -\n"
     ]
    }
   ],
   "source": [
    "app.run_server()"
   ]
  },
  {
   "cell_type": "code",
   "execution_count": null,
   "metadata": {},
   "outputs": [],
   "source": []
  }
 ],
 "metadata": {
  "kernelspec": {
   "display_name": "Python 3",
   "language": "python",
   "name": "python3"
  },
  "language_info": {
   "codemirror_mode": {
    "name": "ipython",
    "version": 3
   },
   "file_extension": ".py",
   "mimetype": "text/x-python",
   "name": "python",
   "nbconvert_exporter": "python",
   "pygments_lexer": "ipython3",
   "version": "3.8.3"
  }
 },
 "nbformat": 4,
 "nbformat_minor": 4
}
